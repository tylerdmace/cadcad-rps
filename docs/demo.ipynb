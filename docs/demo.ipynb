{
 "cells": [
  {
   "cell_type": "markdown",
   "metadata": {},
   "source": [
    "# Rock, Paper, Scissors\n",
    "This is a educational model built against an experimental build of cadCAD that is no longer available. This is a `test` to see how verbatims render."
   ]
  },
  {
   "cell_type": "code",
   "execution_count": 4,
   "metadata": {},
   "outputs": [],
   "source": [
    "from cadcad.dynamics import Block\n",
    "from cadcad.spaces import Space, Dimension\n",
    "from cadcad.trajectories import Point\n",
    "\n",
    "import enum, random"
   ]
  },
  {
   "cell_type": "code",
   "execution_count": 23,
   "metadata": {},
   "outputs": [],
   "source": [
    "class Choice(enum.Enum):\n",
    "    Rock = 0\n",
    "    Paper = 1\n",
    "    Scissors = 2\n",
    "\n",
    "class Outcome(enum.Enum):\n",
    "    Draw = 0\n",
    "    Player1 = 1\n",
    "    Player2 = 2\n",
    "    \n",
    "choice = Dimension(Choice, \"Choice\")\n",
    "outcome = Dimension(Outcome, \"Outcome\")\n",
    "\n",
    "game_space = Space((choice, choice), \"Game Space\", dim_names=(\"player1_choice\", \"player2_choice\"))\n",
    "outcome_space = Space((outcome,), \"Outcome Space\")\n",
    "\n",
    "def determine_outcome(point, params):\n",
    "    o = (point[\"player1_choice\"].value - point[\"player2_choice\"].value) % 3\n",
    "    \n",
    "    return Point(outcome_space, {\"Outcome\": Outcome(abs(o))})\n",
    "\n",
    "def get_choices():\n",
    "    p1 = Choice(random.randrange(0, 3))\n",
    "    p2 = Choice(random.randrange(0, 3))\n",
    "    \n",
    "    return Point(game_space, {\"player1_choice\": p1, \"player2_choice\": p2})\n",
    "\n",
    "game = Block(determine_outcome, game_space, outcome_space)"
   ]
  },
  {
   "cell_type": "code",
   "execution_count": 21,
   "metadata": {},
   "outputs": [
    {
     "name": "stdout",
     "output_type": "stream",
     "text": [
      "Choice.Paper Choice.Scissors\n",
      "Frozen point in space Outcome Space has data\n",
      "{'Outcome': <Outcome.Player2: 2>}\n",
      "\n"
     ]
    }
   ],
   "source": [
    "p = game.map(get_choices())\n",
    "print(p)"
   ]
  },
  {
   "cell_type": "code",
   "execution_count": 24,
   "metadata": {},
   "outputs": [
    {
     "name": "stdout",
     "output_type": "stream",
     "text": [
      "Outcome: Outcome.Draw\n",
      "Outcome: Outcome.Player1\n",
      "Outcome: Outcome.Draw\n",
      "Outcome: Outcome.Player2\n",
      "Outcome: Outcome.Draw\n",
      "Outcome: Outcome.Player1\n",
      "Outcome: Outcome.Player2\n",
      "Outcome: Outcome.Draw\n",
      "Outcome: Outcome.Player2\n",
      "Outcome: Outcome.Player1\n",
      "Outcome: Outcome.Draw\n",
      "Outcome: Outcome.Player1\n",
      "Outcome: Outcome.Draw\n",
      "Outcome: Outcome.Player1\n",
      "Outcome: Outcome.Player1\n",
      "Outcome: Outcome.Player2\n",
      "Outcome: Outcome.Draw\n",
      "Outcome: Outcome.Player2\n",
      "Outcome: Outcome.Draw\n",
      "Outcome: Outcome.Draw\n",
      "Outcome: Outcome.Player1\n",
      "Outcome: Outcome.Player2\n",
      "Outcome: Outcome.Player1\n",
      "Outcome: Outcome.Player2\n",
      "Outcome: Outcome.Player1\n",
      "Outcome: Outcome.Draw\n",
      "Outcome: Outcome.Player2\n",
      "Outcome: Outcome.Player2\n",
      "Outcome: Outcome.Player1\n",
      "Outcome: Outcome.Player2\n",
      "Outcome: Outcome.Draw\n",
      "Outcome: Outcome.Player2\n",
      "Outcome: Outcome.Draw\n",
      "Outcome: Outcome.Player2\n",
      "Outcome: Outcome.Player2\n",
      "Outcome: Outcome.Player1\n",
      "Outcome: Outcome.Player2\n",
      "Outcome: Outcome.Player1\n",
      "Outcome: Outcome.Player2\n",
      "Outcome: Outcome.Player1\n",
      "Outcome: Outcome.Player2\n",
      "Outcome: Outcome.Player2\n",
      "Outcome: Outcome.Player1\n",
      "Outcome: Outcome.Player2\n",
      "Outcome: Outcome.Player1\n",
      "Outcome: Outcome.Player1\n",
      "Outcome: Outcome.Draw\n",
      "Outcome: Outcome.Player2\n",
      "Outcome: Outcome.Draw\n",
      "Outcome: Outcome.Draw\n",
      "Outcome: Outcome.Draw\n",
      "Outcome: Outcome.Player1\n",
      "Outcome: Outcome.Player2\n",
      "Outcome: Outcome.Player2\n",
      "Outcome: Outcome.Player1\n",
      "Outcome: Outcome.Player2\n",
      "Outcome: Outcome.Player2\n",
      "Outcome: Outcome.Player2\n",
      "Outcome: Outcome.Player1\n",
      "Outcome: Outcome.Draw\n",
      "Outcome: Outcome.Draw\n",
      "Outcome: Outcome.Player2\n",
      "Outcome: Outcome.Draw\n",
      "Outcome: Outcome.Player1\n",
      "Outcome: Outcome.Player2\n",
      "Outcome: Outcome.Draw\n",
      "Outcome: Outcome.Player1\n",
      "Outcome: Outcome.Player1\n",
      "Outcome: Outcome.Draw\n",
      "Outcome: Outcome.Draw\n",
      "Outcome: Outcome.Player2\n",
      "Outcome: Outcome.Draw\n",
      "Outcome: Outcome.Player2\n",
      "Outcome: Outcome.Player2\n",
      "Outcome: Outcome.Draw\n",
      "Outcome: Outcome.Player2\n",
      "Outcome: Outcome.Player1\n",
      "Outcome: Outcome.Draw\n",
      "Outcome: Outcome.Draw\n",
      "Outcome: Outcome.Draw\n",
      "Outcome: Outcome.Draw\n",
      "Outcome: Outcome.Draw\n",
      "Outcome: Outcome.Player1\n",
      "Outcome: Outcome.Player1\n",
      "Outcome: Outcome.Player1\n",
      "Outcome: Outcome.Player2\n",
      "Outcome: Outcome.Player1\n",
      "Outcome: Outcome.Player2\n",
      "Outcome: Outcome.Draw\n",
      "Outcome: Outcome.Player1\n",
      "Outcome: Outcome.Player2\n",
      "Outcome: Outcome.Player1\n",
      "Outcome: Outcome.Player2\n",
      "Outcome: Outcome.Draw\n",
      "Outcome: Outcome.Player1\n",
      "Outcome: Outcome.Draw\n",
      "Outcome: Outcome.Draw\n",
      "Outcome: Outcome.Player1\n",
      "Outcome: Outcome.Player1\n",
      "Outcome: Outcome.Player1\n"
     ]
    }
   ],
   "source": [
    "games = []\n",
    "\n",
    "for x in range(1, 101):\n",
    "    games.append(game.map(get_choices()))\n",
    "    \n",
    "for g in games:\n",
    "    print(\"Outcome:\", g[\"Outcome\"])"
   ]
  },
  {
   "cell_type": "code",
   "execution_count": null,
   "metadata": {},
   "outputs": [],
   "source": []
  }
 ],
 "metadata": {
  "interpreter": {
   "hash": "31f2aee4e71d21fbe5cf8b01ff0e069b9275f58929596ceb00d14d90e3e16cd6"
  },
  "kernelspec": {
   "display_name": "Python 3 (ipykernel)",
   "language": "python",
   "name": "python3"
  },
  "language_info": {
   "codemirror_mode": {
    "name": "ipython",
    "version": 3
   },
   "file_extension": ".py",
   "mimetype": "text/x-python",
   "name": "python",
   "nbconvert_exporter": "python",
   "pygments_lexer": "ipython3",
   "version": "3.9.13"
  }
 },
 "nbformat": 4,
 "nbformat_minor": 4
}
